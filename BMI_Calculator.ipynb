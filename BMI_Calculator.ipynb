{
  "nbformat": 4,
  "nbformat_minor": 0,
  "metadata": {
    "colab": {
      "provenance": []
    },
    "kernelspec": {
      "name": "python3",
      "display_name": "Python 3"
    },
    "language_info": {
      "name": "python"
    }
  },
  "cells": [
    {
      "cell_type": "code",
      "execution_count": 3,
      "metadata": {
        "colab": {
          "base_uri": "https://localhost:8080/"
        },
        "id": "8Mwonf7Yn9lG",
        "outputId": "364d09a8-79f0-4127-f79d-02f2c1837fc0"
      },
      "outputs": [
        {
          "output_type": "stream",
          "name": "stdout",
          "text": [
            "Your BMI is : 19.96\n"
          ]
        }
      ],
      "source": [
        "#Height and weight\n",
        "height=1.69\n",
        "weight=57\n",
        "bmi=weight/height**2\n",
        "print(\"Your BMI is :\",round(bmi,2))\n"
      ]
    },
    {
      "cell_type": "code",
      "source": [
        "#Category\n",
        "if bmi<18.5:\n",
        "    print(\"You are underweight\")\n",
        "elif 18.5<=bmi<24.9:\n",
        "    print(\"You are normal\")\n",
        "elif 25<=bmi<29.9:\n",
        "    print(\"You are overweight\")"
      ],
      "metadata": {
        "id": "hocui899pCxZ"
      },
      "execution_count": null,
      "outputs": []
    }
  ]
}